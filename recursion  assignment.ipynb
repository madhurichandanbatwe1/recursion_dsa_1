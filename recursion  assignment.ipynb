{
 "cells": [
  {
   "cell_type": "markdown",
   "id": "014f48bd-a4cf-4b2e-86ef-3c880c7d7381",
   "metadata": {},
   "source": [
    "Q.1 Can you explain the logic and working of the Tower of Hanoi algorithm by writing a Java program?\n",
    "How does the recursion work, and how are the movements of disks between rods accomplished?"
   ]
  },
  {
   "cell_type": "markdown",
   "id": "bc66aa02-7c3c-47dc-8588-7c180390c87f",
   "metadata": {},
   "source": [
    "Certainly! The Tower of Hanoi is a classic problem in computer science and mathematics that involves moving a set of disks from one rod to another, using an auxiliary rod as an intermediate step. The key is to move the disks while following these rules:\n",
    "\n",
    "Only one disk can be moved at a time.\n",
    "A disk can only be placed on top of a larger disk or on an empty rod.\n",
    "The goal is to move all disks from the source rod to the destination rod.\n",
    "Here's a step-by-step explanation of the algorithm and how recursion is used, followed by a Java program implementing the solution.\n",
    "\n",
    "Algorithm Explanation\n",
    "Base Case: If there's only one disk, simply move it from the source rod to the destination rod.\n",
    "Recursive Case: If there are multiple disks, the problem is solved recursively:\n",
    "Step 1: Move the top n-1 disks from the source rod to the auxiliary rod.\n",
    "Step 2: Move the nth (largest) disk directly from the source rod to the destination rod.\n",
    "Step 3: Move the n-1 disks from the auxiliary rod to the destination rod."
   ]
  },
  {
   "cell_type": "markdown",
   "id": "4df0381e-f539-4654-9eef-eb8afca5b040",
   "metadata": {},
   "source": [
    "Q.2 Given two strings word1 and word2, return the minimum number of operations required to convert word1\n",
    "to word2.\n",
    "Example 1:\n",
    "Input: word1 = \"horse\", word2 = \"ros\"\n",
    "Output: 3\n",
    "Explanation:\n",
    "horse -> rorse (replace 'h' with 'r')\n",
    "rorse -> rose (remove 'r')\n",
    "rose -> ros (remove 'e')\n",
    "Example 2:\n",
    "Input: word1 = \"intention\", word2 = \"execution\"\n",
    "Output: 5\n",
    "Explanation:\n",
    "intention -> inention (remove 't')\n",
    "inention -> enention (replace 'i' with 'e')\n",
    "enention -> exention (replace 'n' with 'x')\n",
    "exention -> exection (replace 'n' with 'c')\n",
    "exection -> execution (insert 'u')"
   ]
  },
  {
   "cell_type": "code",
   "execution_count": 1,
   "id": "ef847e6f-1058-418a-b6a5-456c6eb8146e",
   "metadata": {},
   "outputs": [
    {
     "name": "stdout",
     "output_type": "stream",
     "text": [
      "Minimum operations to convert 'horse' to 'ros': 3\n",
      "Minimum operations to convert 'intention' to 'execution': 5\n"
     ]
    }
   ],
   "source": [
    "def min_distance(word1: str, word2: str) -> int:\n",
    "    m, n = len(word1), len(word2)\n",
    "    \n",
    "    # Create a 2D array to store results of subproblems\n",
    "    dp = [[0] * (n + 1) for _ in range(m + 1)]\n",
    "    \n",
    "    # Initialize base cases\n",
    "    for i in range(m + 1):\n",
    "        dp[i][0] = i  # Requires i deletions to make word1[0..i] empty\n",
    "    for j in range(n + 1):\n",
    "        dp[0][j] = j  # Requires j insertions to make an empty string into word2[0..j]\n",
    "    \n",
    "    # Fill the dp array\n",
    "    for i in range(1, m + 1):\n",
    "        for j in range(1, n + 1):\n",
    "            if word1[i - 1] == word2[j - 1]:\n",
    "                dp[i][j] = dp[i - 1][j - 1]  # No new operation needed\n",
    "            else:\n",
    "                dp[i][j] = min(\n",
    "                    dp[i - 1][j] + 1,  # Deletion\n",
    "                    dp[i][j - 1] + 1,  # Insertion\n",
    "                    dp[i - 1][j - 1] + 1  # Substitution\n",
    "                )\n",
    "    \n",
    "    return dp[m][n]\n",
    "\n",
    "# Example usage\n",
    "if __name__ == \"__main__\":\n",
    "    word1 = \"horse\"\n",
    "    word2 = \"ros\"\n",
    "    print(f\"Minimum operations to convert '{word1}' to '{word2}': {min_distance(word1, word2)}\")\n",
    "    \n",
    "    word1 = \"intention\"\n",
    "    word2 = \"execution\"\n",
    "    print(f\"Minimum operations to convert '{word1}' to '{word2}': {min_distance(word1, word2)}\")\n"
   ]
  },
  {
   "cell_type": "markdown",
   "id": "92d2d043-50ac-4233-9c99-1e95a030e4d8",
   "metadata": {},
   "source": [
    "Q. 3 Print the max value of the array [ 13, 1, -3, 22, 5]."
   ]
  },
  {
   "cell_type": "code",
   "execution_count": 5,
   "id": "7d56533b-84f2-4b6f-b6a2-d1412b45d135",
   "metadata": {},
   "outputs": [
    {
     "data": {
      "text/plain": [
       "22"
      ]
     },
     "execution_count": 5,
     "metadata": {},
     "output_type": "execute_result"
    }
   ],
   "source": [
    "import numpy as np\n",
    "a=[ 13, 1, -3, 22, 5]\n",
    "z=np.array(a)\n",
    "max(z)"
   ]
  },
  {
   "cell_type": "markdown",
   "id": "200ce246-7019-498d-b3bb-687ff68a1568",
   "metadata": {},
   "source": [
    "Q.4 Find the sum of the values of the array [92, 23, 15, -20, 10]."
   ]
  },
  {
   "cell_type": "code",
   "execution_count": 8,
   "id": "7a4ec4d9-164b-4b66-87c0-d517bfe94e2a",
   "metadata": {},
   "outputs": [
    {
     "data": {
      "text/plain": [
       "120"
      ]
     },
     "execution_count": 8,
     "metadata": {},
     "output_type": "execute_result"
    }
   ],
   "source": [
    "z=[92, 23, 15, -20, 10]\n",
    "arr=np.array(z)\n",
    "arr.sum()"
   ]
  },
  {
   "cell_type": "markdown",
   "id": "1cb394b2-2121-4ae6-a7be-1dee342b7f66",
   "metadata": {},
   "source": [
    "Q.5 Given a number n. Print if it is an armstrong number or not.An armstrong number is a number if the sum\n",
    "of every digit in that number raised to the power of total digits in that number is equal to the number.\n",
    "Example : 153 = 1^3 + 5^3 + 3^3 = 1 + 125 + 27 = 153 hence 153 is an armstrong number. (Easy)\n",
    "Input1 : 153\n",
    "Output1 : Yes\n",
    "Input 2 : 134\n",
    "Output2 : No"
   ]
  },
  {
   "cell_type": "code",
   "execution_count": 10,
   "id": "48513ca3-99d8-4863-a20f-96ac48491046",
   "metadata": {},
   "outputs": [
    {
     "name": "stdout",
     "output_type": "stream",
     "text": [
      "Input: 153\n",
      "Output: Yes\n",
      "Input: 134\n",
      "Output: No\n"
     ]
    }
   ],
   "source": [
    "def is_armstrong_number(n: int) -> str:\n",
    "    # Convert the number to string to easily iterate over digits\n",
    "    digits = str(n)\n",
    "    num_digits = len(digits)\n",
    "    \n",
    "    # Calculate the sum of each digit raised to the power of num_digits\n",
    "    sum_of_powers = sum(int(digit) ** num_digits for digit in digits)\n",
    "    \n",
    "    # Check if the sum is equal to the original number\n",
    "    if sum_of_powers == n:\n",
    "        return \"Yes\"\n",
    "    else:\n",
    "        return \"No\"\n",
    "\n",
    "# Example usage\n",
    "if __name__ == \"__main__\":\n",
    "    input1 = 153\n",
    "    print(f\"Input: {input1}\")\n",
    "    print(f\"Output: {is_armstrong_number(input1)}\")\n",
    "    \n",
    "    input2 = 134\n",
    "    print(f\"Input: {input2}\")\n",
    "    print(f\"Output: {is_armstrong_number(input2)}\")\n"
   ]
  },
  {
   "cell_type": "code",
   "execution_count": null,
   "id": "dc17d872-6a44-4f2c-8d4c-02ee8aa16e05",
   "metadata": {},
   "outputs": [],
   "source": []
  }
 ],
 "metadata": {
  "kernelspec": {
   "display_name": "Python 3 (ipykernel)",
   "language": "python",
   "name": "python3"
  },
  "language_info": {
   "codemirror_mode": {
    "name": "ipython",
    "version": 3
   },
   "file_extension": ".py",
   "mimetype": "text/x-python",
   "name": "python",
   "nbconvert_exporter": "python",
   "pygments_lexer": "ipython3",
   "version": "3.11.7"
  }
 },
 "nbformat": 4,
 "nbformat_minor": 5
}
